{
 "cells": [
  {
   "cell_type": "markdown",
   "id": "amateur-milwaukee",
   "metadata": {},
   "source": [
    "# Predictions on saved model."
   ]
  },
  {
   "cell_type": "markdown",
   "id": "established-reviewer",
   "metadata": {},
   "source": [
    "### Import modules and packages.\n",
    "##### __author__ = \"Shakir Sadiq\""
   ]
  },
  {
   "cell_type": "code",
   "execution_count": 1,
   "id": "boolean-laser",
   "metadata": {
    "scrolled": true
   },
   "outputs": [
    {
     "name": "stderr",
     "output_type": "stream",
     "text": [
      "Using TensorFlow backend.\n"
     ]
    }
   ],
   "source": [
    "import numpy\n",
    "import pickle\n",
    "from keras.models import load_model\n",
    "from keras.preprocessing.text import Tokenizer\n",
    "from keras.preprocessing.sequence import pad_sequences"
   ]
  },
  {
   "cell_type": "markdown",
   "id": "attempted-parking",
   "metadata": {},
   "source": [
    "### Loading the model."
   ]
  },
  {
   "cell_type": "code",
   "execution_count": 2,
   "id": "injured-qatar",
   "metadata": {},
   "outputs": [],
   "source": [
    "predictor = load_model(\"C:/Users/shaki/Desktop/ecsa/models/cnn.h5\")"
   ]
  },
  {
   "cell_type": "markdown",
   "id": "efficient-tactics",
   "metadata": {},
   "source": [
    "### Loading the tokenizer."
   ]
  },
  {
   "cell_type": "code",
   "execution_count": 3,
   "id": "permanent-reminder",
   "metadata": {},
   "outputs": [],
   "source": [
    "with open(\"C:/Users/shaki/Desktop/ecsa/tokenizer/tokenizer.pickle\", \"rb\") as handle:\n",
    "    tokenizer = pickle.load(handle)"
   ]
  },
  {
   "cell_type": "markdown",
   "id": "opened-trail",
   "metadata": {},
   "source": [
    "### Predictions by the model."
   ]
  },
  {
   "cell_type": "code",
   "execution_count": 4,
   "id": "duplicate-advertising",
   "metadata": {},
   "outputs": [
    {
     "name": "stdout",
     "output_type": "stream",
     "text": [
      "Message: ['that day i was so scared']\n",
      "Predicted: fear\n"
     ]
    }
   ],
   "source": [
    "emotion_categories = ['joy', 'fear', 'anger', 'sadness', 'neutral']\n",
    "maximum_sequence_length = 500\n",
    "\n",
    "message = [\"that day i was so scared\"]\n",
    "\n",
    "sequence = tokenizer.texts_to_sequences(message)\n",
    "padded = pad_sequences(sequence, maximum_sequence_length)\n",
    "predict = predictor.predict(padded)\n",
    "\n",
    "print(\"Message:\", message)\n",
    "print(\"Predicted:\", emotion_categories[numpy.argmax(predict)])"
   ]
  }
 ],
 "metadata": {
  "kernelspec": {
   "display_name": "Python 3",
   "language": "python",
   "name": "python3"
  },
  "language_info": {
   "codemirror_mode": {
    "name": "ipython",
    "version": 3
   },
   "file_extension": ".py",
   "mimetype": "text/x-python",
   "name": "python",
   "nbconvert_exporter": "python",
   "pygments_lexer": "ipython3",
   "version": "3.7.5"
  }
 },
 "nbformat": 4,
 "nbformat_minor": 5
}
