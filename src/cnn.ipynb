{
 "cells": [
  {
   "cell_type": "markdown",
   "id": "digital-dividend",
   "metadata": {},
   "source": [
    "# EMOTION CLASSIFICATION AND SENTIMENT ANALYSIS.\n",
    "### Using Python 3.7.5.\n",
    "### Convolutional Neural Network.\n",
    "###### __author__ = \"Shakir Sadiq\""
   ]
  },
  {
   "cell_type": "markdown",
   "id": "blocked-pastor",
   "metadata": {},
   "source": [
    "**Import all the required modules and packages.**"
   ]
  },
  {
   "cell_type": "code",
   "execution_count": 1,
   "id": "royal-landscape",
   "metadata": {
    "scrolled": true
   },
   "outputs": [
    {
     "name": "stderr",
     "output_type": "stream",
     "text": [
      "Using TensorFlow backend.\n"
     ]
    }
   ],
   "source": [
    "import pandas\n",
    "import numpy\n",
    "import re\n",
    "import nltk\n",
    "import pickle\n",
    "import matplotlib.pyplot as plt\n",
    "from sklearn.metrics import accuracy_score, f1_score, confusion_matrix\n",
    "from keras.preprocessing.text import Tokenizer\n",
    "from keras.preprocessing.sequence import pad_sequences\n",
    "from keras.utils import to_categorical\n",
    "from keras.models import Sequential, load_model\n",
    "from keras.layers import Embedding, Conv1D, GlobalMaxPooling1D, Dense"
   ]
  },
  {
   "cell_type": "markdown",
   "id": "premier-surname",
   "metadata": {},
   "source": [
    "**Import dataset and create dataframes.**\n",
    "*  Using pandas"
   ]
  },
  {
   "cell_type": "code",
   "execution_count": 2,
   "id": "corresponding-tulsa",
   "metadata": {},
   "outputs": [],
   "source": [
    "dataframe_test = pandas.read_csv(r\"C:\\Users\\shaki\\Desktop\\ecsa\\datasets\\data_test.csv\")\n",
    "dataframe_train = pandas.read_csv(r\"C:\\Users\\shaki\\Desktop\\ecsa\\datasets\\data_train.csv\")"
   ]
  },
  {
   "cell_type": "markdown",
   "id": "median-bryan",
   "metadata": {},
   "source": [
    "**Split dataframes into training and testing.**\n",
    "*  Using Pandas"
   ]
  },
  {
   "cell_type": "code",
   "execution_count": 3,
   "id": "relative-blackjack",
   "metadata": {},
   "outputs": [
    {
     "name": "stdout",
     "output_type": "stream",
     "text": [
      "size of training set: 7934\n",
      "size of testing set: 3393\n",
      "joy        2326\n",
      "sadness    2317\n",
      "anger      2259\n",
      "neutral    2254\n",
      "fear       2171\n",
      "Name: Emotion, dtype: int64\n"
     ]
    }
   ],
   "source": [
    "#Text column from csv file\n",
    "text_test = dataframe_test.Text\n",
    "text_train = dataframe_train.Text\n",
    "\n",
    "#emotion column from csv file\n",
    "emotion_test = dataframe_test.Emotion\n",
    "emotion_train = dataframe_train.Emotion\n",
    "\n",
    "#concatenate dataframes of both the datasets\n",
    "data = pandas.concat([dataframe_train, dataframe_test])\n",
    "print(\"size of training set:\",(len(dataframe_train['Text'])))\n",
    "print(\"size of testing set:\",(len(dataframe_test['Text'])))\n",
    "print(data.Emotion.value_counts()) #size of each individual emotion"
   ]
  },
  {
   "cell_type": "markdown",
   "id": "grateful-whale",
   "metadata": {},
   "source": [
    "**Data cleaning:**\n",
    "*  Cleaning datasets and getting them down to a form with which we can work.\n",
    "*  Using regex.\n",
    "*  nltk for tokenization."
   ]
  },
  {
   "cell_type": "code",
   "execution_count": 4,
   "id": "metric-carry",
   "metadata": {},
   "outputs": [],
   "source": [
    "htmltags = r\"(<.*?>)\"\n",
    "urls = r\"^https?:\\/\\/.*[\\r\\n]*\"\n",
    "punctuation = r\"(\\\\W|\\\\d)\"\n",
    "hashtags = r\"(#[\\d\\w\\.]+)\"\n",
    "\n",
    "def cleaning_tokenization(data):\n",
    "    '''function for data cleaning and tokenization'''\n",
    "    data = re.sub(htmltags, \" \", str(data)) #remove html tags\n",
    "    data = re.sub(urls, \" \", str(data)) #remove urls\n",
    "    data = re.sub(punctuation, \" \", str(data)) #remove punctuation\n",
    "    data = re.sub(hashtags, \" \", str(data)) #remove hashtags\n",
    "    data = data.strip() #remove whitespaces\n",
    "\n",
    "    data = nltk.word_tokenize(str(data)) #tokenization using nltk\n",
    "    \n",
    "    return data"
   ]
  },
  {
   "cell_type": "markdown",
   "id": "strong-principle",
   "metadata": {},
   "source": [
    "**Tokenization:**\n",
    "*  Tokenization basically refers to splitting up a larger body of text into smaller lines.\n",
    "*  Using Keras"
   ]
  },
  {
   "cell_type": "code",
   "execution_count": 5,
   "id": "elegant-brand",
   "metadata": {},
   "outputs": [
    {
     "name": "stdout",
     "output_type": "stream",
     "text": [
      "Number of unique words: 12237\n"
     ]
    }
   ],
   "source": [
    "texts = [' '.join(cleaning_tokenization(text)) for text in data.Text]\n",
    "texts_test = [' '.join(cleaning_tokenization(text)) for text in text_test]\n",
    "texts_train = [' '.join(cleaning_tokenization(text)) for text in text_train]\n",
    "\n",
    "tokenizer = Tokenizer()\n",
    "tokenizer.fit_on_texts(texts)\n",
    "\n",
    "sequence_test = tokenizer.texts_to_sequences(texts_test)\n",
    "sequence_train = tokenizer.texts_to_sequences(texts_train)\n",
    "\n",
    "index_of_words = tokenizer.word_index\n",
    "\n",
    "#Number of unique words + reserved 0 index for padding\n",
    "vocabulary_size = len(index_of_words) + 1\n",
    "\n",
    "print(\"Number of unique words:\",len(index_of_words))"
   ]
  },
  {
   "cell_type": "markdown",
   "id": "covered-might",
   "metadata": {},
   "source": [
    "**Padding:**\n",
    "*  Each input has to be of the same length.\n",
    "*  Using Keras."
   ]
  },
  {
   "cell_type": "code",
   "execution_count": 6,
   "id": "bearing-arizona",
   "metadata": {
    "scrolled": true
   },
   "outputs": [
    {
     "data": {
      "text/plain": [
       "array([[    0,     0,     0, ...,   119,    51,   345],\n",
       "       [    0,     0,     0, ...,    37,   277,   154],\n",
       "       [    0,     0,     0, ...,    16,     2,  1210],\n",
       "       ...,\n",
       "       [    0,     0,     0, ...,   876,     4,   909],\n",
       "       [    0,     0,     0, ...,     1,     6,   117],\n",
       "       [    0,     0,     0, ..., 10364,   173,    13]])"
      ]
     },
     "execution_count": 6,
     "metadata": {},
     "output_type": "execute_result"
    }
   ],
   "source": [
    "maximum_sequence_length = 500 #Maximum input length\n",
    "text_test_pad = pad_sequences(sequence_test, maxlen = maximum_sequence_length)\n",
    "text_train_pad = pad_sequences(sequence_train, maxlen = maximum_sequence_length)\n",
    "\n",
    "text_train_pad"
   ]
  },
  {
   "cell_type": "markdown",
   "id": "under-discipline",
   "metadata": {},
   "source": [
    "**Encoding of emotion categories:**\n",
    "*  Labels have to be converted to integeres and categorized.\n",
    "*  Using Keras."
   ]
  },
  {
   "cell_type": "code",
   "execution_count": 7,
   "id": "sustainable-skiing",
   "metadata": {},
   "outputs": [
    {
     "data": {
      "text/plain": [
       "array([[0., 0., 0., 0., 1.],\n",
       "       [0., 0., 0., 1., 0.],\n",
       "       [0., 1., 0., 0., 0.],\n",
       "       ...,\n",
       "       [0., 0., 0., 1., 0.],\n",
       "       [0., 1., 0., 0., 0.],\n",
       "       [0., 0., 1., 0., 0.]], dtype=float32)"
      ]
     },
     "execution_count": 7,
     "metadata": {},
     "output_type": "execute_result"
    }
   ],
   "source": [
    "encoding = {\n",
    "    'joy': 0,\n",
    "    'fear': 1,\n",
    "    'anger': 2,\n",
    "    'sadness': 3,\n",
    "    'neutral': 4\n",
    "}\n",
    "\n",
    "#Integer labels\n",
    "emotion_test = [encoding[i] for i in dataframe_test.Emotion]\n",
    "emotion_train = [encoding[i] for i in dataframe_train.Emotion]\n",
    "\n",
    "#to_categorical function --- Converts a class vector (integers) to binary class matrix.\n",
    "emotion_test = to_categorical(emotion_test)\n",
    "emotion_train = to_categorical(emotion_train)\n",
    "\n",
    "emotion_train"
   ]
  },
  {
   "cell_type": "markdown",
   "id": "killing-tutorial",
   "metadata": {},
   "source": [
    "**Importing pretrained word2vec:**\n",
    "* Importing pretrained word2vec from file and creating embedding matrix and we will later map each word in our corpus to existing word vector.\n",
    "* Word Embedding is a representation of text where words that have the similar meaning have a similar representation.\n",
    "* We will use 300 dimentional word vectors pre-trained on wikipedia articles."
   ]
  },
  {
   "cell_type": "code",
   "execution_count": 8,
   "id": "funded-devil",
   "metadata": {},
   "outputs": [
    {
     "name": "stdout",
     "output_type": "stream",
     "text": [
      "Please wait...! Embedding in Process...!\n"
     ]
    },
    {
     "data": {
      "text/plain": [
       "(12238, 300)"
      ]
     },
     "execution_count": 8,
     "metadata": {},
     "output_type": "execute_result"
    }
   ],
   "source": [
    "embedding_number_dimensions = 300 #number of dimensions for word embedding\n",
    "\n",
    "def create_embedding_matrix(filepath, word_index, embedding_dimensions):\n",
    "    '''function for importing pretrained word vectors'''\n",
    "    print(\"Please wait...! Embedding in Process...!\")\n",
    "    vocabulary_size = len(word_index) + 1  #Adding again 1 because of reserved 0 index\n",
    "    embedding_matrix = numpy.zeros((vocabulary_size, embedding_dimensions))\n",
    "    \n",
    "    with open(filepath, encoding=\"utf8\") as f:\n",
    "        for line in f:\n",
    "            word, *vector = line.split()\n",
    "            if word in word_index:\n",
    "                idx = word_index[word] \n",
    "                embedding_matrix[idx] = numpy.array(vector, dtype=numpy.float32)[:embedding_dimensions]\n",
    "    return embedding_matrix\n",
    "\n",
    "filename = r\"C:\\Users\\shaki\\Desktop\\ecsa\\word2vector\\wiki-news-300d-1M.vec\"\n",
    "embedd_matrix = create_embedding_matrix(filename, index_of_words, embedding_number_dimensions)\n",
    "embedd_matrix.shape"
   ]
  },
  {
   "cell_type": "markdown",
   "id": "divided-rabbit",
   "metadata": {},
   "source": [
    "**Inspecting new words after embedding:**\n",
    "*  Using pretrained word vectors."
   ]
  },
  {
   "cell_type": "code",
   "execution_count": 9,
   "id": "appointed-trace",
   "metadata": {},
   "outputs": [
    {
     "name": "stdout",
     "output_type": "stream",
     "text": [
      "Words found in pretrained wiki word vector:  11449\n",
      "New words found:  788\n"
     ]
    }
   ],
   "source": [
    "new_words = 0\n",
    "for word in index_of_words:\n",
    "    entry = embedd_matrix[index_of_words[word]]\n",
    "    if all(v == 0 for v in entry):\n",
    "        new_words = new_words + 1\n",
    "\n",
    "print(\"Words found in pretrained wiki word vector: \", str(len(index_of_words) - new_words))\n",
    "print(\"New words found: \", str(new_words))"
   ]
  },
  {
   "cell_type": "markdown",
   "id": "pending-collection",
   "metadata": {},
   "source": [
    "**Embedding Layer:**\n",
    "*  vocabulary size: the maximum number of terms that are used to represent a text.\n",
    "*  size of embeddings: The more dimensions we have the more precise the semantics will be.\n",
    "*  trainable: True if you want to fine-tune them while training."
   ]
  },
  {
   "cell_type": "code",
   "execution_count": 10,
   "id": "defined-prospect",
   "metadata": {},
   "outputs": [],
   "source": [
    "#It maps the integer inputs to the vectors found at the corresponding index in the embedding matrix\n",
    "embedding_layer = Embedding(vocabulary_size,\n",
    "                         embedding_number_dimensions,\n",
    "                         input_length = maximum_sequence_length,\n",
    "                         weights = [embedd_matrix],\n",
    "                         trainable=False)"
   ]
  },
  {
   "cell_type": "markdown",
   "id": "moved-driving",
   "metadata": {},
   "source": [
    "**Convolutional neural network:**\n",
    "*  Though text data is one-dimensional, we can use 1D convolutional neural networks to extract features from our data.\n",
    "*  The result of each convolution will fire when a special pattern is detected.\n",
    "*  Using Keras.layers."
   ]
  },
  {
   "cell_type": "code",
   "execution_count": 11,
   "id": "incoming-values",
   "metadata": {
    "scrolled": true
   },
   "outputs": [
    {
     "name": "stdout",
     "output_type": "stream",
     "text": [
      "Model: \"sequential_1\"\n",
      "_________________________________________________________________\n",
      "Layer (type)                 Output Shape              Param #   \n",
      "=================================================================\n",
      "embedding_1 (Embedding)      (None, 500, 300)          3671400   \n",
      "_________________________________________________________________\n",
      "conv1d_1 (Conv1D)            (None, 498, 256)          230656    \n",
      "_________________________________________________________________\n",
      "global_max_pooling1d_1 (Glob (None, 256)               0         \n",
      "_________________________________________________________________\n",
      "dense_1 (Dense)              (None, 256)               65792     \n",
      "_________________________________________________________________\n",
      "dense_2 (Dense)              (None, 5)                 1285      \n",
      "=================================================================\n",
      "Total params: 3,969,133\n",
      "Trainable params: 297,733\n",
      "Non-trainable params: 3,671,400\n",
      "_________________________________________________________________\n"
     ]
    }
   ],
   "source": [
    "number_of_categories = 5 #Total number of emotions.\n",
    "kernel_size = 3 #Specifying the length of the convolution window.\n",
    "filters = 256 #Total number of windows you will have.\n",
    "\n",
    "model = Sequential()  #Initializing the neural network\n",
    "model.add(embedding_layer)\n",
    "#Used relu function to ensure that we don't have negative pixel values during computation.\n",
    "model.add(Conv1D(filters, kernel_size, activation='relu')) #Convulation layer\n",
    "model.add(GlobalMaxPooling1D()) #reduce the size of the feature map without losing important image information.\n",
    "model.add(Dense(256, activation='relu')) #dense is a fully connected layer (receives input from all neurons).\n",
    "#activation function(softmax) used in the output layer that predict a multinomial probability distribution.\n",
    "model.add(Dense(number_of_categories, activation='softmax'))\n",
    "\n",
    "#loss = 'categorical_crossentropy' --- loss function (measure of how good your prediction model does).\n",
    "#optimizer = 'adam' --- optimization algorithm.\n",
    "#metrics = ['accuracy'] --- specifies the evaluation criteria for the model.\n",
    "model.compile(loss = 'categorical_crossentropy', optimizer = 'adam', metrics = ['accuracy'])\n",
    "model.summary()"
   ]
  },
  {
   "cell_type": "markdown",
   "id": "female-found",
   "metadata": {},
   "source": [
    "## Train the model."
   ]
  },
  {
   "cell_type": "code",
   "execution_count": 12,
   "id": "weighted-homeless",
   "metadata": {},
   "outputs": [
    {
     "name": "stdout",
     "output_type": "stream",
     "text": [
      "Train on 7934 samples, validate on 3393 samples\n",
      "Epoch 1/6\n",
      "7934/7934 [==============================] - 2173s 274ms/step - loss: 1.3656 - accuracy: 0.4613 - val_loss: 1.1170 - val_accuracy: 0.6113\n",
      "Epoch 2/6\n",
      "7934/7934 [==============================] - 2157s 272ms/step - loss: 0.8351 - accuracy: 0.7162 - val_loss: 0.7827 - val_accuracy: 0.7147\n",
      "Epoch 3/6\n",
      "7934/7934 [==============================] - 2132s 269ms/step - loss: 0.6038 - accuracy: 0.7962 - val_loss: 0.7280 - val_accuracy: 0.7401\n",
      "Epoch 4/6\n",
      "7934/7934 [==============================] - 2174s 274ms/step - loss: 0.4887 - accuracy: 0.8426 - val_loss: 0.7118 - val_accuracy: 0.7498\n",
      "Epoch 5/6\n",
      "7934/7934 [==============================] - 2179s 275ms/step - loss: 0.3871 - accuracy: 0.8864 - val_loss: 0.6915 - val_accuracy: 0.7583\n",
      "Epoch 6/6\n",
      "7934/7934 [==============================] - 2186s 276ms/step - loss: 0.2964 - accuracy: 0.9227 - val_loss: 0.7054 - val_accuracy: 0.7521\n"
     ]
    }
   ],
   "source": [
    "batch_size = 256 #The number of samples that are passed to the network at once.\n",
    "epochs = 6 #The number of times a learning algorithm sees the complete dataset.\n",
    "\n",
    "hist = model.fit(text_train_pad, emotion_train, \n",
    "                 batch_size=batch_size,\n",
    "                 epochs=epochs,\n",
    "                 validation_data=(text_test_pad,emotion_test))"
   ]
  },
  {
   "cell_type": "markdown",
   "id": "beginning-quantum",
   "metadata": {},
   "source": [
    "**Graph Plotting:**\n",
    "*  Accuracy Plot.\n",
    "*  Loss Plot.\n",
    "*  Using matplotlib.pyplot"
   ]
  },
  {
   "cell_type": "code",
   "execution_count": 13,
   "id": "comparative-security",
   "metadata": {},
   "outputs": [
    {
     "data": {
      "image/png": "[encoded data removed]",
      "text/plain": [
       "<Figure size 432x288 with 1 Axes>"
      ]
     },
     "metadata": {
      "needs_background": "light"
     },
     "output_type": "display_data"
    },
    {
     "data": {
      "image/png": "[encoded data removed]",
      "text/plain": [
       "<Figure size 432x288 with 1 Axes>"
      ]
     },
     "metadata": {
      "needs_background": "light"
     },
     "output_type": "display_data"
    }
   ],
   "source": [
    "#Accuracy plot\n",
    "plt.plot(hist.history['accuracy'])\n",
    "plt.plot(hist.history['val_accuracy'])\n",
    "plt.title(\"Model Accuracy\")\n",
    "plt.xlabel(\"Epoch\")\n",
    "plt.ylabel(\"Accuracy\")\n",
    "plt.legend([\"train\", \"validation\"], loc = \"upper left\") #This function will provide the name of different lines in the graph.\n",
    "plt.show()\n",
    "\n",
    "#Loss plot\n",
    "plt.plot(hist.history['loss'])\n",
    "plt.plot(hist.history['val_loss'])\n",
    "plt.title(\"Model Loss\")\n",
    "plt.xlabel(\"Epoch\")\n",
    "plt.ylabel(\"Loss\")\n",
    "plt.legend([\"train\", \"validation\"], loc = \"upper left\")\n",
    "plt.show()"
   ]
  },
  {
   "cell_type": "markdown",
   "id": "moving-thursday",
   "metadata": {},
   "source": [
    "## Evaluation Of the Trained model.\n",
    "**F1-Score & Accuracy Percentage.**\n",
    "*  Using Scikit_learn."
   ]
  },
  {
   "cell_type": "code",
   "execution_count": 14,
   "id": "concrete-productivity",
   "metadata": {},
   "outputs": [
    {
     "name": "stdout",
     "output_type": "stream",
     "text": [
      "Accuracy:  75.21367521367522 %\n",
      "\n",
      "F1 Score:  75.2136752136752\n"
     ]
    }
   ],
   "source": [
    "emotion_categories = ['joy', 'fear', 'anger', 'sadness', 'neutral']\n",
    "\n",
    "predictions = model.predict(text_test_pad)\n",
    "predictions = numpy.argmax(predictions, axis=1)\n",
    "predictions = [emotion_categories[pred] for pred in predictions]\n",
    "\n",
    "#Accuracy is used when the True Positives and True negatives are more important.\n",
    "print(\"Accuracy: \", (accuracy_score(dataframe_test.Emotion, predictions) * 100),\"%\")\n",
    "#F1-score is used when the False Negatives and False Positives are crucial.\n",
    "print(\"\\nF1 Score: \", (f1_score(dataframe_test.Emotion, predictions, average='micro') * 100))"
   ]
  },
  {
   "cell_type": "markdown",
   "id": "liked-tamil",
   "metadata": {},
   "source": [
    "**Confusion Matrix**\n",
    "*  Visualization of the data.\n",
    "*  Using Scikit-learn."
   ]
  },
  {
   "cell_type": "code",
   "execution_count": 15,
   "id": "nutritional-hours",
   "metadata": {},
   "outputs": [
    {
     "data": {
      "image/png": "[encoded data removed]",
      "text/plain": [
       "<Figure size 900x540 with 2 Axes>"
      ]
     },
     "metadata": {
      "needs_background": "light"
     },
     "output_type": "display_data"
    }
   ],
   "source": [
    "def plot_confusion_matrix(true_values, predicted_values, classes, normalize=False, title=None, cmap=plt.cm.Purples):\n",
    "    '''This function prints and plots the confusion matrix'''\n",
    "    if not title:\n",
    "        if normalize:\n",
    "            title = \"Normalized confusion matrix\"\n",
    "        else:\n",
    "            title = \"Confusion matrix without normalization\"\n",
    "    \n",
    "    #Compute confusion matrix\n",
    "    cm = confusion_matrix(true_values, predicted_values)\n",
    "    if normalize:\n",
    "        cm = cm.astype(\"float\") / cm.sum(axis=1)[:, numpy.newaxis]\n",
    "    fig, ax = plt.subplots()\n",
    "    \n",
    "    #size of the confusion matrix\n",
    "    fig.set_size_inches(12.5, 7.5)\n",
    "    im = ax.imshow(cm, interpolation=\"nearest\", cmap=cmap)\n",
    "    ax.figure.colorbar(im, ax=ax)\n",
    "    ax.grid(False)\n",
    "\n",
    "    #labels around the matrix\n",
    "    ax.set(xticks=numpy.arange(cm.shape[1]),\n",
    "           yticks=numpy.arange(cm.shape[0]),\n",
    "           xticklabels=classes, yticklabels=classes,\n",
    "           title=title,\n",
    "           ylabel=\"True label\",\n",
    "           xlabel=\"Predicted label\")\n",
    "    \n",
    "    #alignment of labels\n",
    "    plt.setp(ax.get_xticklabels(), rotation=45, ha=\"right\", rotation_mode=\"anchor\")\n",
    "    \n",
    "    #create text annotations\n",
    "    fmt = '.2f' if normalize else 'd'\n",
    "    thresh = cm.max() / 2.\n",
    "    for i in range(cm.shape[0]):\n",
    "        for j in range(cm.shape[1]):\n",
    "            ax.text(j, i, format(cm[i, j], fmt),\n",
    "                    ha=\"center\", va=\"center\",\n",
    "                    color=\"white\" if cm[i, j] > thresh else \"black\")\n",
    "    fig.tight_layout()\n",
    "    return ax\n",
    "\n",
    "#Plot normalized confusion matrix\n",
    "plot_confusion_matrix(dataframe_test.Emotion, predictions, classes=emotion_categories, normalize=True)\n",
    "plt.show()"
   ]
  },
  {
   "cell_type": "markdown",
   "id": "acknowledged-singles",
   "metadata": {},
   "source": [
    "## Results.\n",
    "**Predictions by our model**"
   ]
  },
  {
   "cell_type": "code",
   "execution_count": 16,
   "id": "congressional-disposal",
   "metadata": {},
   "outputs": [
    {
     "name": "stdout",
     "output_type": "stream",
     "text": [
      "Message: ['that movie was really scary']\n",
      "Predicted: fear\n"
     ]
    }
   ],
   "source": [
    "message = [\"that movie was really scary\"]\n",
    "\n",
    "sequence = tokenizer.texts_to_sequences(message)\n",
    "padded = pad_sequences(sequence, maxlen=maximum_sequence_length)\n",
    "\n",
    "predict = model.predict(padded)\n",
    "\n",
    "print(\"Message:\", message)\n",
    "print(\"Predicted:\", emotion_categories[numpy.argmax(predict)])"
   ]
  },
  {
   "cell_type": "markdown",
   "id": "hungarian-accuracy",
   "metadata": {},
   "source": [
    "**Saving the model for later use.**"
   ]
  },
  {
   "cell_type": "code",
   "execution_count": 17,
   "id": "pacific-lightning",
   "metadata": {},
   "outputs": [],
   "source": [
    "model.save(\"C:/Users/shaki/Desktop/ecsa/models/cnn.h5\")"
   ]
  },
  {
   "cell_type": "markdown",
   "id": "surface-bikini",
   "metadata": {},
   "source": [
    "**Saving the tokenizer for later use.**"
   ]
  },
  {
   "cell_type": "code",
   "execution_count": 18,
   "id": "pleased-technique",
   "metadata": {},
   "outputs": [],
   "source": [
    "with open(\"C:/Users/shaki/Desktop/ecsa/tokenizer/tokenizer.pickle\", \"wb\") as handle:\n",
    "    pickle.dump(tokenizer, handle, protocol=pickle.HIGHEST_PROTOCOL)"
   ]
  }
 ],
 "metadata": {
  "kernelspec": {
   "display_name": "Python 3",
   "language": "python",
   "name": "python3"
  },
  "language_info": {
   "codemirror_mode": {
    "name": "ipython",
    "version": 3
   },
   "file_extension": ".py",
   "mimetype": "text/x-python",
   "name": "python",
   "nbconvert_exporter": "python",
   "pygments_lexer": "ipython3",
   "version": "3.7.5"
  }
 },
 "nbformat": 4,
 "nbformat_minor": 5
}
